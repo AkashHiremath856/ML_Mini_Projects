{
 "cells": [
  {
   "cell_type": "code",
   "execution_count": null,
   "metadata": {
    "id": "LDSwUqhkOgTL"
   },
   "outputs": [],
   "source": [
    "import math\n",
    "def sigmoid(x):\n",
    "  return 1/(1+math.exp(-x))"
   ]
  },
  {
   "cell_type": "code",
   "execution_count": null,
   "metadata": {
    "colab": {
     "base_uri": "https://localhost:8080/"
    },
    "executionInfo": {
     "elapsed": 1826,
     "status": "ok",
     "timestamp": 1607093452174,
     "user": {
      "displayName": "Akash Hiremath",
      "photoUrl": "https://lh3.googleusercontent.com/a-/AOh14GjYY_R0W4UBIeiwY5xs8wykbPwaenq4iKlrPx9CMw=s64",
      "userId": "16305394474952987272"
     },
     "user_tz": -330
    },
    "id": "AaOzyVOuO60a",
    "outputId": "10cfc606-021e-438c-b521-888efc65a97d"
   },
   "outputs": [
    {
     "data": {
      "text/plain": [
       "1.0"
      ]
     },
     "execution_count": 3,
     "metadata": {
      "tags": []
     },
     "output_type": "execute_result"
    }
   ],
   "source": [
    "sigmoid(100)"
   ]
  },
  {
   "cell_type": "code",
   "execution_count": null,
   "metadata": {
    "colab": {
     "base_uri": "https://localhost:8080/"
    },
    "executionInfo": {
     "elapsed": 1742,
     "status": "ok",
     "timestamp": 1607093516562,
     "user": {
      "displayName": "Akash Hiremath",
      "photoUrl": "https://lh3.googleusercontent.com/a-/AOh14GjYY_R0W4UBIeiwY5xs8wykbPwaenq4iKlrPx9CMw=s64",
      "userId": "16305394474952987272"
     },
     "user_tz": -330
    },
    "id": "uzhiZfKsPMQG",
    "outputId": "66a0b496-f359-4db4-982d-02dc1cf882ab"
   },
   "outputs": [
    {
     "data": {
      "text/plain": [
       "4.780892883885469e-25"
      ]
     },
     "execution_count": 4,
     "metadata": {
      "tags": []
     },
     "output_type": "execute_result"
    }
   ],
   "source": [
    "sigmoid(-56)"
   ]
  },
  {
   "cell_type": "code",
   "execution_count": null,
   "metadata": {
    "id": "QMWxy9PSPPtj"
   },
   "outputs": [],
   "source": [
    "def tanh(x):\n",
    "  return(math.exp(x)-math.exp(-x))/(math.exp(x)+math.exp(-x))"
   ]
  },
  {
   "cell_type": "code",
   "execution_count": null,
   "metadata": {
    "colab": {
     "base_uri": "https://localhost:8080/"
    },
    "executionInfo": {
     "elapsed": 2176,
     "status": "ok",
     "timestamp": 1607093630345,
     "user": {
      "displayName": "Akash Hiremath",
      "photoUrl": "https://lh3.googleusercontent.com/a-/AOh14GjYY_R0W4UBIeiwY5xs8wykbPwaenq4iKlrPx9CMw=s64",
      "userId": "16305394474952987272"
     },
     "user_tz": -330
    },
    "id": "irz03dSKPl6h",
    "outputId": "bb46c888-a34c-4cf8-9ab1-33daf7e654b2"
   },
   "outputs": [
    {
     "data": {
      "text/plain": [
       "-1.0"
      ]
     },
     "execution_count": 7,
     "metadata": {
      "tags": []
     },
     "output_type": "execute_result"
    }
   ],
   "source": [
    "tanh(-56)"
   ]
  },
  {
   "cell_type": "code",
   "execution_count": null,
   "metadata": {
    "id": "JghaBi-DQztp"
   },
   "outputs": [],
   "source": [
    "def relu(x):\n",
    "  return max(0,x)"
   ]
  },
  {
   "cell_type": "code",
   "execution_count": null,
   "metadata": {
    "colab": {
     "base_uri": "https://localhost:8080/"
    },
    "executionInfo": {
     "elapsed": 1937,
     "status": "ok",
     "timestamp": 1607093969878,
     "user": {
      "displayName": "Akash Hiremath",
      "photoUrl": "https://lh3.googleusercontent.com/a-/AOh14GjYY_R0W4UBIeiwY5xs8wykbPwaenq4iKlrPx9CMw=s64",
      "userId": "16305394474952987272"
     },
     "user_tz": -330
    },
    "id": "5ODBeHB5Q6nR",
    "outputId": "c80d9bf6-c681-490a-d76a-5ad320b049ff"
   },
   "outputs": [
    {
     "data": {
      "text/plain": [
       "1"
      ]
     },
     "execution_count": 10,
     "metadata": {
      "tags": []
     },
     "output_type": "execute_result"
    }
   ],
   "source": [
    "relu(1)"
   ]
  },
  {
   "cell_type": "code",
   "execution_count": null,
   "metadata": {
    "id": "L39kgV7HRFwt"
   },
   "outputs": [],
   "source": [
    "def leaky_relu(x):\n",
    "  return max(0.1*x,x)"
   ]
  },
  {
   "cell_type": "code",
   "execution_count": null,
   "metadata": {
    "colab": {
     "base_uri": "https://localhost:8080/"
    },
    "executionInfo": {
     "elapsed": 1704,
     "status": "ok",
     "timestamp": 1607094058558,
     "user": {
      "displayName": "Akash Hiremath",
      "photoUrl": "https://lh3.googleusercontent.com/a-/AOh14GjYY_R0W4UBIeiwY5xs8wykbPwaenq4iKlrPx9CMw=s64",
      "userId": "16305394474952987272"
     },
     "user_tz": -330
    },
    "id": "MMXI8CPjRPnP",
    "outputId": "84b32ebb-0fd4-4a76-f9d6-6978ea2f0b98"
   },
   "outputs": [
    {
     "data": {
      "text/plain": [
       "-1.0"
      ]
     },
     "execution_count": 13,
     "metadata": {
      "tags": []
     },
     "output_type": "execute_result"
    }
   ],
   "source": [
    "leaky_relu(-10)"
   ]
  }
 ],
 "metadata": {
  "colab": {
   "authorship_tag": "ABX9TyNexk6fqx6beJvJYPme+oPr",
   "collapsed_sections": [],
   "name": "Deeplearning[cb_activation_fns].ipynb",
   "provenance": []
  },
  "kernelspec": {
   "display_name": "Python 3 (ipykernel)",
   "language": "python",
   "name": "python3"
  },
  "language_info": {
   "codemirror_mode": {
    "name": "ipython",
    "version": 3
   },
   "file_extension": ".py",
   "mimetype": "text/x-python",
   "name": "python",
   "nbconvert_exporter": "python",
   "pygments_lexer": "ipython3",
   "version": "3.11.1"
  }
 },
 "nbformat": 4,
 "nbformat_minor": 1
}
