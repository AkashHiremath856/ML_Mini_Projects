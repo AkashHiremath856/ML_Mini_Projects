{
 "cells": [
  {
   "cell_type": "code",
   "execution_count": 4,
   "metadata": {
    "executionInfo": {
     "elapsed": 2472,
     "status": "ok",
     "timestamp": 1607148594521,
     "user": {
      "displayName": "Akash Hiremath",
      "photoUrl": "https://lh3.googleusercontent.com/a-/AOh14GjYY_R0W4UBIeiwY5xs8wykbPwaenq4iKlrPx9CMw=s64",
      "userId": "16305394474952987272"
     },
     "user_tz": -330
    },
    "id": "brEDPTskgD0p"
   },
   "outputs": [],
   "source": [
    "import numpy as np\n",
    "\n",
    "y_predicted=np.array([1,1,0,0,1])\n",
    "y_true=np.array([0.30,0.7,1,0,0.5])"
   ]
  },
  {
   "cell_type": "code",
   "execution_count": 7,
   "metadata": {
    "executionInfo": {
     "elapsed": 1623,
     "status": "ok",
     "timestamp": 1607148765961,
     "user": {
      "displayName": "Akash Hiremath",
      "photoUrl": "https://lh3.googleusercontent.com/a-/AOh14GjYY_R0W4UBIeiwY5xs8wykbPwaenq4iKlrPx9CMw=s64",
      "userId": "16305394474952987272"
     },
     "user_tz": -330
    },
    "id": "uQUX7sDdg5e5"
   },
   "outputs": [],
   "source": [
    "def mae(y_true,y_predicted):\n",
    "  total_error=0\n",
    "  for yt,yp in zip(y_true,y_predicted):\n",
    "    #print(yt,yp)\n",
    "    total_error +=abs(yt-yp)\n",
    "  print(\"total error \",total_error)\n",
    "  mae=total_error/ len(y_true)\n",
    "  print(\"mae:\",mae)\n",
    "  return mae"
   ]
  },
  {
   "cell_type": "code",
   "execution_count": 8,
   "metadata": {
    "colab": {
     "base_uri": "https://localhost:8080/"
    },
    "executionInfo": {
     "elapsed": 1040,
     "status": "ok",
     "timestamp": 1607148767768,
     "user": {
      "displayName": "Akash Hiremath",
      "photoUrl": "https://lh3.googleusercontent.com/a-/AOh14GjYY_R0W4UBIeiwY5xs8wykbPwaenq4iKlrPx9CMw=s64",
      "userId": "16305394474952987272"
     },
     "user_tz": -330
    },
    "id": "ZGVrXiWZhNIo",
    "outputId": "97b1bf77-a5c8-4c32-e8cb-4551745456b2"
   },
   "outputs": [
    {
     "name": "stdout",
     "output_type": "stream",
     "text": [
      "total error  2.5\n",
      "mae: 0.5\n"
     ]
    },
    {
     "data": {
      "text/plain": [
       "0.5"
      ]
     },
     "execution_count": 8,
     "metadata": {
      "tags": []
     },
     "output_type": "execute_result"
    }
   ],
   "source": [
    "mae(y_true,y_predicted)"
   ]
  },
  {
   "cell_type": "code",
   "execution_count": 10,
   "metadata": {
    "colab": {
     "base_uri": "https://localhost:8080/"
    },
    "executionInfo": {
     "elapsed": 855,
     "status": "ok",
     "timestamp": 1607148859880,
     "user": {
      "displayName": "Akash Hiremath",
      "photoUrl": "https://lh3.googleusercontent.com/a-/AOh14GjYY_R0W4UBIeiwY5xs8wykbPwaenq4iKlrPx9CMw=s64",
      "userId": "16305394474952987272"
     },
     "user_tz": -330
    },
    "id": "Pypvtp_PiDTj",
    "outputId": "482f57d5-d7f1-43f9-b798-3c09bd277554"
   },
   "outputs": [
    {
     "data": {
      "text/plain": [
       "0.1"
      ]
     },
     "execution_count": 10,
     "metadata": {
      "tags": []
     },
     "output_type": "execute_result"
    }
   ],
   "source": [
    "np.mean(y_predicted-y_true)"
   ]
  },
  {
   "cell_type": "code",
   "execution_count": 12,
   "metadata": {
    "colab": {
     "base_uri": "https://localhost:8080/"
    },
    "executionInfo": {
     "elapsed": 1783,
     "status": "ok",
     "timestamp": 1607148899261,
     "user": {
      "displayName": "Akash Hiremath",
      "photoUrl": "https://lh3.googleusercontent.com/a-/AOh14GjYY_R0W4UBIeiwY5xs8wykbPwaenq4iKlrPx9CMw=s64",
      "userId": "16305394474952987272"
     },
     "user_tz": -330
    },
    "id": "WoICY_FDiZQJ",
    "outputId": "7987db51-4411-4e4d-f600-03665a6e46ca"
   },
   "outputs": [
    {
     "data": {
      "text/plain": [
       "array([0.7, 0.3, 1. , 0. , 0.5])"
      ]
     },
     "execution_count": 12,
     "metadata": {
      "tags": []
     },
     "output_type": "execute_result"
    }
   ],
   "source": [
    "np.abs(y_predicted - y_true)"
   ]
  },
  {
   "cell_type": "code",
   "execution_count": 13,
   "metadata": {
    "colab": {
     "base_uri": "https://localhost:8080/"
    },
    "executionInfo": {
     "elapsed": 2052,
     "status": "ok",
     "timestamp": 1607148969289,
     "user": {
      "displayName": "Akash Hiremath",
      "photoUrl": "https://lh3.googleusercontent.com/a-/AOh14GjYY_R0W4UBIeiwY5xs8wykbPwaenq4iKlrPx9CMw=s64",
      "userId": "16305394474952987272"
     },
     "user_tz": -330
    },
    "id": "ch17Rq3yig3c",
    "outputId": "ffda7732-a324-43d0-fb28-881015f01b55"
   },
   "outputs": [
    {
     "data": {
      "text/plain": [
       "array([0.])"
      ]
     },
     "execution_count": 13,
     "metadata": {
      "tags": []
     },
     "output_type": "execute_result"
    }
   ],
   "source": [
    "np.log([1])"
   ]
  },
  {
   "cell_type": "code",
   "execution_count": 15,
   "metadata": {
    "executionInfo": {
     "elapsed": 1657,
     "status": "ok",
     "timestamp": 1607149177406,
     "user": {
      "displayName": "Akash Hiremath",
      "photoUrl": "https://lh3.googleusercontent.com/a-/AOh14GjYY_R0W4UBIeiwY5xs8wykbPwaenq4iKlrPx9CMw=s64",
      "userId": "16305394474952987272"
     },
     "user_tz": -330
    },
    "id": "yqlWhTz8iyYg"
   },
   "outputs": [],
   "source": [
    "eplison=1e-15"
   ]
  },
  {
   "cell_type": "code",
   "execution_count": 17,
   "metadata": {
    "colab": {
     "base_uri": "https://localhost:8080/"
    },
    "executionInfo": {
     "elapsed": 2016,
     "status": "ok",
     "timestamp": 1607149191696,
     "user": {
      "displayName": "Akash Hiremath",
      "photoUrl": "https://lh3.googleusercontent.com/a-/AOh14GjYY_R0W4UBIeiwY5xs8wykbPwaenq4iKlrPx9CMw=s64",
      "userId": "16305394474952987272"
     },
     "user_tz": -330
    },
    "id": "5NL1raTojE6G",
    "outputId": "41d243e8-5b20-4a61-e014-c70432261b61"
   },
   "outputs": [
    {
     "data": {
      "text/plain": [
       "[1, 1, 1e-15, 1e-15, 1]"
      ]
     },
     "execution_count": 17,
     "metadata": {
      "tags": []
     },
     "output_type": "execute_result"
    }
   ],
   "source": [
    "y_predicted_new=[max(i,eplison) for i in y_predicted]\n",
    "y_predicted_new"
   ]
  },
  {
   "cell_type": "code",
   "execution_count": 19,
   "metadata": {
    "colab": {
     "base_uri": "https://localhost:8080/"
    },
    "executionInfo": {
     "elapsed": 2057,
     "status": "ok",
     "timestamp": 1607149261130,
     "user": {
      "displayName": "Akash Hiremath",
      "photoUrl": "https://lh3.googleusercontent.com/a-/AOh14GjYY_R0W4UBIeiwY5xs8wykbPwaenq4iKlrPx9CMw=s64",
      "userId": "16305394474952987272"
     },
     "user_tz": -330
    },
    "id": "8qqfe1bMjKB5",
    "outputId": "b35802a4-3301-47c2-d19a-3f566ab29e78"
   },
   "outputs": [
    {
     "data": {
      "text/plain": [
       "array([  0.        ,   0.        , -34.53877639, -34.53877639,\n",
       "         0.        ])"
      ]
     },
     "execution_count": 19,
     "metadata": {
      "tags": []
     },
     "output_type": "execute_result"
    }
   ],
   "source": [
    "y_predicted_new=np.array(y_predicted_new)\n",
    "np.log(y_predicted_new)"
   ]
  },
  {
   "cell_type": "code",
   "execution_count": 25,
   "metadata": {
    "executionInfo": {
     "elapsed": 1755,
     "status": "ok",
     "timestamp": 1607149539462,
     "user": {
      "displayName": "Akash Hiremath",
      "photoUrl": "https://lh3.googleusercontent.com/a-/AOh14GjYY_R0W4UBIeiwY5xs8wykbPwaenq4iKlrPx9CMw=s64",
      "userId": "16305394474952987272"
     },
     "user_tz": -330
    },
    "id": "TsCiY6O_j9Ye"
   },
   "outputs": [],
   "source": [
    "def log_loss(y_true, y_predicted):\n",
    "    epsilon=1e-15\n",
    "    y_predicted_new = [max(i,epsilon) for i in y_predicted]\n",
    "    y_predicted_new = [min(i,1-epsilon) for i in y_predicted_new]\n",
    "    y_predicted_new = np.array(y_predicted_new)\n",
    "    return -np.mean(y_true*np.log(y_predicted_new)+(1-y_true)*np.log(1-y_predicted_new))"
   ]
  },
  {
   "cell_type": "code",
   "execution_count": 26,
   "metadata": {
    "colab": {
     "base_uri": "https://localhost:8080/"
    },
    "executionInfo": {
     "elapsed": 1899,
     "status": "ok",
     "timestamp": 1607149542541,
     "user": {
      "displayName": "Akash Hiremath",
      "photoUrl": "https://lh3.googleusercontent.com/a-/AOh14GjYY_R0W4UBIeiwY5xs8wykbPwaenq4iKlrPx9CMw=s64",
      "userId": "16305394474952987272"
     },
     "user_tz": -330
    },
    "id": "I5mh6Z_xkmON",
    "outputId": "4bc3a5b1-7b55-49f2-a680-86459815d849"
   },
   "outputs": [
    {
     "data": {
      "text/plain": [
       "17.2696280766844"
      ]
     },
     "execution_count": 26,
     "metadata": {
      "tags": []
     },
     "output_type": "execute_result"
    }
   ],
   "source": [
    "log_loss(y_true,y_predicted)"
   ]
  }
 ],
 "metadata": {
  "colab": {
   "authorship_tag": "ABX9TyNiLRq4+qCIS01d7oSKuTjf",
   "collapsed_sections": [],
   "name": "loss&cost_fn[cb].ipynb",
   "provenance": []
  },
  "kernelspec": {
   "display_name": "Python 3 (ipykernel)",
   "language": "python",
   "name": "python3"
  },
  "language_info": {
   "codemirror_mode": {
    "name": "ipython",
    "version": 3
   },
   "file_extension": ".py",
   "mimetype": "text/x-python",
   "name": "python",
   "nbconvert_exporter": "python",
   "pygments_lexer": "ipython3",
   "version": "3.11.1"
  }
 },
 "nbformat": 4,
 "nbformat_minor": 1
}
